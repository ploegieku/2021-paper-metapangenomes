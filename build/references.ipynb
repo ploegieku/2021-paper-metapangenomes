{
 "cells": [
  {
   "cell_type": "markdown",
   "metadata": {
    "deletable": true,
    "editable": true
   },
   "source": [
    "# Process citations and retrieve metadata"
   ]
  },
  {
   "cell_type": "code",
   "execution_count": 1,
   "metadata": {
    "collapsed": false,
    "deletable": true,
    "editable": true
   },
   "outputs": [],
   "source": [
    "import json\n",
    "import re\n",
    "import os\n",
    "import pathlib\n",
    "import subprocess\n",
    "\n",
    "import pandas\n",
    "\n",
    "from citations import (\n",
    "    citation_to_metadata,\n",
    "    citeproc_passthrough,\n",
    "    get_references_from_text,\n",
    "    get_text,\n",
    "    validate_reference,\n",
    ")"
   ]
  },
  {
   "cell_type": "code",
   "execution_count": 2,
   "metadata": {
    "collapsed": true,
    "deletable": true,
    "editable": true
   },
   "outputs": [],
   "source": [
    "ref_dir = pathlib.Path('../references')\n",
    "gen_dir = ref_dir.joinpath('generated')"
   ]
  },
  {
   "cell_type": "code",
   "execution_count": 3,
   "metadata": {
    "collapsed": false,
    "deletable": true,
    "editable": true
   },
   "outputs": [],
   "source": [
    "text = get_text('../sections')\n",
    "refs = sorted(get_references_from_text(text))\n",
    "bad_refs = list(filter(None, map(validate_reference, refs)))\n",
    "if bad_refs:\n",
    "    print('\\n'.join(bad_refs))\n",
    "    assert False\n",
    "ref_df = pandas.DataFrame({'text': refs})\n",
    "tag_df = pandas.read_table(ref_dir.joinpath('tags.tsv'))\n",
    "tag_df['text'] = '@tag:' + tag_df.tag\n",
    "ref_df = ref_df.merge(tag_df[['text', 'citation']], how='left')\n",
    "ref_df.citation.fillna(ref_df.text.str.lstrip('@'), inplace=True)"
   ]
  },
  {
   "cell_type": "code",
   "execution_count": 4,
   "metadata": {
    "collapsed": false,
    "deletable": true,
    "editable": true
   },
   "outputs": [
    {
     "data": {
      "text/html": [
       "<div>\n",
       "<table border=\"1\" class=\"dataframe\">\n",
       "  <thead>\n",
       "    <tr style=\"text-align: right;\">\n",
       "      <th></th>\n",
       "      <th>text</th>\n",
       "      <th>citation</th>\n",
       "    </tr>\n",
       "  </thead>\n",
       "  <tbody>\n",
       "    <tr>\n",
       "      <th>0</th>\n",
       "      <td>@arxiv:1409.0575</td>\n",
       "      <td>arxiv:1409.0575</td>\n",
       "    </tr>\n",
       "    <tr>\n",
       "      <th>1</th>\n",
       "      <td>@arxiv:1411.2581v1</td>\n",
       "      <td>arxiv:1411.2581v1</td>\n",
       "    </tr>\n",
       "    <tr>\n",
       "      <th>2</th>\n",
       "      <td>@arxiv:1510.02855</td>\n",
       "      <td>arxiv:1510.02855</td>\n",
       "    </tr>\n",
       "  </tbody>\n",
       "</table>\n",
       "</div>"
      ],
      "text/plain": [
       "                 text           citation\n",
       "0    @arxiv:1409.0575    arxiv:1409.0575\n",
       "1  @arxiv:1411.2581v1  arxiv:1411.2581v1\n",
       "2   @arxiv:1510.02855   arxiv:1510.02855"
      ]
     },
     "execution_count": 4,
     "metadata": {},
     "output_type": "execute_result"
    }
   ],
   "source": [
    "ref_df.head(3)"
   ]
  },
  {
   "cell_type": "code",
   "execution_count": 5,
   "metadata": {
    "collapsed": false,
    "deletable": true,
    "editable": true
   },
   "outputs": [],
   "source": [
    "def get_standard_citatation(citation, cache):\n",
    "    try:\n",
    "        metadata = citation_to_metadata(citation, cache)\n",
    "        return metadata['standard_citation'], metadata['citation_id']\n",
    "    except Exception as e:\n",
    "        print(citation, e)\n",
    "        return None, None"
   ]
  },
  {
   "cell_type": "code",
   "execution_count": 6,
   "metadata": {
    "collapsed": false,
    "deletable": true,
    "editable": true
   },
   "outputs": [
    {
     "name": "stdout",
     "output_type": "stream",
     "text": [
      "Using metadata cache: False\n"
     ]
    }
   ],
   "source": [
    "cache_path = gen_dir.joinpath('citations.json')\n",
    "use_cache = cache_path.exists() and 'REFRESH_METADATA_CACHE' not in os.environ\n",
    "print('Using metadata cache:', use_cache)\n",
    "if use_cache:\n",
    "    with gen_dir.joinpath('citations.json').open() as read_file:\n",
    "        metadata_cache = json.load(read_file)\n",
    "else:\n",
    "    metadata_cache = {}\n",
    "\n",
    "ref_df['standard_citation'], ref_df['citation_id'] = zip(*ref_df.citation.apply(\n",
    "    get_standard_citatation, cache=metadata_cache))"
   ]
  },
  {
   "cell_type": "code",
   "execution_count": 7,
   "metadata": {
    "collapsed": false,
    "deletable": true,
    "editable": true
   },
   "outputs": [
    {
     "data": {
      "text/html": [
       "<div>\n",
       "<table border=\"1\" class=\"dataframe\">\n",
       "  <thead>\n",
       "    <tr style=\"text-align: right;\">\n",
       "      <th></th>\n",
       "      <th>text</th>\n",
       "      <th>citation</th>\n",
       "      <th>standard_citation</th>\n",
       "      <th>citation_id</th>\n",
       "    </tr>\n",
       "  </thead>\n",
       "  <tbody>\n",
       "    <tr>\n",
       "      <th>0</th>\n",
       "      <td>@arxiv:1409.0575</td>\n",
       "      <td>arxiv:1409.0575</td>\n",
       "      <td>arxiv:1409.0575</td>\n",
       "      <td>ref_0</td>\n",
       "    </tr>\n",
       "    <tr>\n",
       "      <th>1</th>\n",
       "      <td>@arxiv:1411.2581v1</td>\n",
       "      <td>arxiv:1411.2581v1</td>\n",
       "      <td>arxiv:1411.2581v1</td>\n",
       "      <td>ref_1</td>\n",
       "    </tr>\n",
       "    <tr>\n",
       "      <th>2</th>\n",
       "      <td>@arxiv:1510.02855</td>\n",
       "      <td>arxiv:1510.02855</td>\n",
       "      <td>arxiv:1510.02855</td>\n",
       "      <td>ref_2</td>\n",
       "    </tr>\n",
       "  </tbody>\n",
       "</table>\n",
       "</div>"
      ],
      "text/plain": [
       "                 text           citation  standard_citation citation_id\n",
       "0    @arxiv:1409.0575    arxiv:1409.0575    arxiv:1409.0575       ref_0\n",
       "1  @arxiv:1411.2581v1  arxiv:1411.2581v1  arxiv:1411.2581v1       ref_1\n",
       "2   @arxiv:1510.02855   arxiv:1510.02855   arxiv:1510.02855       ref_2"
      ]
     },
     "execution_count": 7,
     "metadata": {},
     "output_type": "execute_result"
    }
   ],
   "source": [
    "ref_df.head(3)"
   ]
  },
  {
   "cell_type": "code",
   "execution_count": 8,
   "metadata": {
    "collapsed": false,
    "deletable": true,
    "editable": true
   },
   "outputs": [
    {
     "name": "stdout",
     "output_type": "stream",
     "text": [
      "118 unique citations strings extracted from text\n",
      "116 unique citations after standardizations\n"
     ]
    }
   ],
   "source": [
    "print(f'''\n",
    "{len(ref_df)} unique citations strings extracted from text\n",
    "{ref_df.standard_citation.nunique()} unique citations after standardizations\n",
    "'''.strip())"
   ]
  },
  {
   "cell_type": "code",
   "execution_count": 9,
   "metadata": {
    "collapsed": false,
    "deletable": true,
    "editable": true
   },
   "outputs": [
    {
     "data": {
      "text/html": [
       "<div>\n",
       "<table border=\"1\" class=\"dataframe\">\n",
       "  <thead>\n",
       "    <tr style=\"text-align: right;\">\n",
       "      <th></th>\n",
       "      <th>text</th>\n",
       "      <th>citation</th>\n",
       "      <th>standard_citation</th>\n",
       "      <th>citation_id</th>\n",
       "    </tr>\n",
       "  </thead>\n",
       "  <tbody>\n",
       "    <tr>\n",
       "      <th>26</th>\n",
       "      <td>@doi:10.1016/j.neunet.2014.09.003</td>\n",
       "      <td>doi:10.1016/j.neunet.2014.09.003</td>\n",
       "      <td>doi:10.1016/j.neunet.2014.09.003</td>\n",
       "      <td>ref_26</td>\n",
       "    </tr>\n",
       "    <tr>\n",
       "      <th>46</th>\n",
       "      <td>@doi:10.1101/073239</td>\n",
       "      <td>doi:10.1101/073239</td>\n",
       "      <td>doi:10.1101/073239</td>\n",
       "      <td>ref_46</td>\n",
       "    </tr>\n",
       "    <tr>\n",
       "      <th>105</th>\n",
       "      <td>@tag:Schmidhuber2014_dnn_overview</td>\n",
       "      <td>doi:10.1016/j.neunet.2014.09.003</td>\n",
       "      <td>doi:10.1016/j.neunet.2014.09.003</td>\n",
       "      <td>ref_26</td>\n",
       "    </tr>\n",
       "    <tr>\n",
       "      <th>113</th>\n",
       "      <td>@tag:Wang2016_protein_contact</td>\n",
       "      <td>doi:10.1101/073239</td>\n",
       "      <td>doi:10.1101/073239</td>\n",
       "      <td>ref_46</td>\n",
       "    </tr>\n",
       "  </tbody>\n",
       "</table>\n",
       "</div>"
      ],
      "text/plain": [
       "                                  text                          citation  \\\n",
       "26   @doi:10.1016/j.neunet.2014.09.003  doi:10.1016/j.neunet.2014.09.003   \n",
       "46                 @doi:10.1101/073239                doi:10.1101/073239   \n",
       "105  @tag:Schmidhuber2014_dnn_overview  doi:10.1016/j.neunet.2014.09.003   \n",
       "113      @tag:Wang2016_protein_contact                doi:10.1101/073239   \n",
       "\n",
       "                    standard_citation citation_id  \n",
       "26   doi:10.1016/j.neunet.2014.09.003      ref_26  \n",
       "46                 doi:10.1101/073239      ref_46  \n",
       "105  doi:10.1016/j.neunet.2014.09.003      ref_26  \n",
       "113                doi:10.1101/073239      ref_46  "
      ]
     },
     "execution_count": 9,
     "metadata": {},
     "output_type": "execute_result"
    }
   ],
   "source": [
    "# Duplicated citations\n",
    "ref_df[ref_df.standard_citation.duplicated(keep=False)]"
   ]
  },
  {
   "cell_type": "code",
   "execution_count": 10,
   "metadata": {
    "collapsed": false,
    "deletable": true,
    "editable": true
   },
   "outputs": [],
   "source": [
    "converted_text = text\n",
    "for old, new in zip(ref_df.text, '@' + ref_df.citation_id):\n",
    "    old = re.escape(old)\n",
    "    converted_text = re.sub(old + '(?=[\\s\\]])', new, converted_text)\n",
    "\n",
    "with gen_dir.joinpath('all-sections.md').open('wt') as write_file:\n",
    "    write_file.write(converted_text)"
   ]
  },
  {
   "cell_type": "code",
   "execution_count": 11,
   "metadata": {
    "collapsed": false,
    "deletable": true,
    "editable": true
   },
   "outputs": [],
   "source": [
    "path = gen_dir.joinpath('processed-citations.tsv')\n",
    "ref_df.to_csv(path, sep='\\t', index=False)\n",
    "\n",
    "with cache_path.open('wt') as write_file:\n",
    "    json.dump(metadata_cache, write_file, indent=2, ensure_ascii=False)"
   ]
  },
  {
   "cell_type": "code",
   "execution_count": 12,
   "metadata": {
    "collapsed": false,
    "deletable": true,
    "editable": true
   },
   "outputs": [],
   "source": [
    "csl_items = list()\n",
    "bibtex_stanzas = list()\n",
    "for metadata in metadata_cache.values():\n",
    "    if 'citeproc' in metadata:\n",
    "        csl_items.append(metadata['citeproc'])\n",
    "    elif 'bibtex' in metadata:\n",
    "        bibtex_stanzas.append(metadata['bibtex'])\n",
    "\n",
    "bib_path = gen_dir.joinpath('bibliography.bib')\n",
    "with bib_path.open('wt') as write_file:\n",
    "    write_file.write('\\n'.join(bibtex_stanzas))\n",
    "\n",
    "bib_items = subprocess.check_output(['pandoc-citeproc', '--bib2json', bib_path])\n",
    "bib_items = json.loads(bib_items)\n",
    "csl_items.extend(map(citeproc_passthrough, bib_items))"
   ]
  },
  {
   "cell_type": "code",
   "execution_count": 13,
   "metadata": {
    "collapsed": false,
    "deletable": true,
    "editable": true
   },
   "outputs": [],
   "source": [
    "with gen_dir.joinpath('bibliography.json').open('wt') as write_file:\n",
    "    json.dump(csl_items, write_file, indent=2, ensure_ascii=False)"
   ]
  }
 ],
 "metadata": {
  "anaconda-cloud": {},
  "kernelspec": {
   "display_name": "Python 3",
   "language": "python",
   "name": "python3"
  },
  "language_info": {
   "codemirror_mode": {
    "name": "ipython",
    "version": 3
   },
   "file_extension": ".py",
   "mimetype": "text/x-python",
   "name": "python",
   "nbconvert_exporter": "python",
   "pygments_lexer": "ipython3",
   "version": "3.6.0"
  }
 },
 "nbformat": 4,
 "nbformat_minor": 1
}
